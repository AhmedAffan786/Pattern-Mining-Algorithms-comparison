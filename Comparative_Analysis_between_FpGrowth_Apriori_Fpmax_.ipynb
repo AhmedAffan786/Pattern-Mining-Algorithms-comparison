{
  "nbformat": 4,
  "nbformat_minor": 0,
  "metadata": {
    "colab": {
      "name": "Comparative Analysis between FpGrowth Apriori Fpmax .ipynb",
      "provenance": [],
      "collapsed_sections": []
    },
    "kernelspec": {
      "name": "python3",
      "display_name": "Python 3"
    },
    "language_info": {
      "name": "python"
    }
  },
  "cells": [
    {
      "cell_type": "markdown",
      "metadata": {
        "id": "CiJg3c43tO21"
      },
      "source": [
        "##Frequent Pattern Mining\n",
        "\n",
        "##### This kernel is a comprehensive overview focused on the comparative analysis between Apriori ,Fpmax and Frequent Pattern Growth algorithms. These are all association rule algorithms.\n",
        "\n",
        "###### This kernal is about frequent pattern minning of different algorithms.\n",
        "\n"
      ]
    },
    {
      "cell_type": "markdown",
      "metadata": {
        "id": "nuEzyDHelGlb"
      },
      "source": [
        "####We will be covering the following topics:\n",
        "\n"
      ]
    },
    {
      "cell_type": "markdown",
      "metadata": {
        "id": "TZb25XWelJqJ"
      },
      "source": [
        "###Data Preparation for association rules\n"
      ]
    },
    {
      "cell_type": "markdown",
      "metadata": {
        "id": "8QJE_FFTlJuX"
      },
      "source": [
        "###Impelementation of Assosiatoion rule"
      ]
    },
    {
      "cell_type": "markdown",
      "metadata": {
        "id": "JZfZjCH2lJ4n"
      },
      "source": [
        "###Comparitave Analysis of Algos\n",
        "\n"
      ]
    },
    {
      "cell_type": "code",
      "metadata": {
        "colab": {
          "base_uri": "https://localhost:8080/"
        },
        "id": "la3wcN2iDYr7",
        "outputId": "8180cc9f-514a-44f9-f5c4-aea5005bc3b1"
      },
      "source": [
        "#Have to update version of mlxtend on Colab\n",
        "import mlxtend as ml\n",
        "print(ml.__version__)"
      ],
      "execution_count": null,
      "outputs": [
        {
          "output_type": "stream",
          "text": [
            "0.18.0\n"
          ],
          "name": "stdout"
        }
      ]
    },
    {
      "cell_type": "code",
      "metadata": {
        "id": "Mi41oG_qfZdk"
      },
      "source": [
        "##\n",
        "##import matplotlib\n",
        "##matplotlib.use('Agg')"
      ],
      "execution_count": null,
      "outputs": []
    },
    {
      "cell_type": "code",
      "metadata": {
        "id": "E2lI5YQtJv1y"
      },
      "source": [
        "#This line of code to upgrade library \n",
        "#!pip install mlxtend --upgrade"
      ],
      "execution_count": null,
      "outputs": []
    },
    {
      "cell_type": "code",
      "metadata": {
        "id": "QvhYir5hvq18"
      },
      "source": [
        "import pandas as pd\n",
        "import time\n",
        "import numpy as np\n",
        "import matplotlib.pyplot as plt\n",
        "from mlxtend.preprocessing import TransactionEncoder\n",
        "from prettytable import PrettyTable\n",
        "from mlxtend.preprocessing import TransactionEncoder\n",
        "from mlxtend.frequent_patterns import apriori, association_rules,fpgrowth,fpmax"
      ],
      "execution_count": null,
      "outputs": []
    },
    {
      "cell_type": "code",
      "metadata": {
        "colab": {
          "base_uri": "https://localhost:8080/"
        },
        "id": "_EdVTUQAvREG",
        "outputId": "6c1f4410-8b7e-4169-d6f0-3bbbccc47219"
      },
      "source": [
        "from google.colab import drive\n",
        "\n",
        "drive.mount('/content/gdrive')"
      ],
      "execution_count": null,
      "outputs": [
        {
          "output_type": "stream",
          "text": [
            "Drive already mounted at /content/gdrive; to attempt to forcibly remount, call drive.mount(\"/content/gdrive\", force_remount=True).\n"
          ],
          "name": "stdout"
        }
      ]
    },
    {
      "cell_type": "code",
      "metadata": {
        "id": "-57sOfis-u1A"
      },
      "source": [
        "data = pd.read_csv('/content/gdrive/MyDrive/kaggle_fun/Groceries_dataset.csv')  "
      ],
      "execution_count": null,
      "outputs": []
    },
    {
      "cell_type": "code",
      "metadata": {
        "colab": {
          "base_uri": "https://localhost:8080/"
        },
        "id": "uGYyO-Gg_GM-",
        "outputId": "1043b99a-bb90-4762-a15c-ae921f9ea867"
      },
      "source": [
        "# looking up thats in data frame\n",
        "data.head()\n",
        "data.shape"
      ],
      "execution_count": null,
      "outputs": [
        {
          "output_type": "execute_result",
          "data": {
            "text/plain": [
              "(38765, 3)"
            ]
          },
          "metadata": {
            "tags": []
          },
          "execution_count": 7
        }
      ]
    },
    {
      "cell_type": "code",
      "metadata": {
        "colab": {
          "base_uri": "https://localhost:8080/",
          "height": 203
        },
        "id": "B53MoIg9mO4B",
        "outputId": "3289c05d-cb4c-46d7-baae-207b305625c8"
      },
      "source": [
        "data.head()"
      ],
      "execution_count": null,
      "outputs": [
        {
          "output_type": "execute_result",
          "data": {
            "text/html": [
              "<div>\n",
              "<style scoped>\n",
              "    .dataframe tbody tr th:only-of-type {\n",
              "        vertical-align: middle;\n",
              "    }\n",
              "\n",
              "    .dataframe tbody tr th {\n",
              "        vertical-align: top;\n",
              "    }\n",
              "\n",
              "    .dataframe thead th {\n",
              "        text-align: right;\n",
              "    }\n",
              "</style>\n",
              "<table border=\"1\" class=\"dataframe\">\n",
              "  <thead>\n",
              "    <tr style=\"text-align: right;\">\n",
              "      <th></th>\n",
              "      <th>Member_number</th>\n",
              "      <th>Date</th>\n",
              "      <th>itemDescription</th>\n",
              "    </tr>\n",
              "  </thead>\n",
              "  <tbody>\n",
              "    <tr>\n",
              "      <th>0</th>\n",
              "      <td>1808</td>\n",
              "      <td>21-07-2015</td>\n",
              "      <td>tropical fruit</td>\n",
              "    </tr>\n",
              "    <tr>\n",
              "      <th>1</th>\n",
              "      <td>2552</td>\n",
              "      <td>05-01-2015</td>\n",
              "      <td>whole milk</td>\n",
              "    </tr>\n",
              "    <tr>\n",
              "      <th>2</th>\n",
              "      <td>2300</td>\n",
              "      <td>19-09-2015</td>\n",
              "      <td>pip fruit</td>\n",
              "    </tr>\n",
              "    <tr>\n",
              "      <th>3</th>\n",
              "      <td>1187</td>\n",
              "      <td>12-12-2015</td>\n",
              "      <td>other vegetables</td>\n",
              "    </tr>\n",
              "    <tr>\n",
              "      <th>4</th>\n",
              "      <td>3037</td>\n",
              "      <td>01-02-2015</td>\n",
              "      <td>whole milk</td>\n",
              "    </tr>\n",
              "  </tbody>\n",
              "</table>\n",
              "</div>"
            ],
            "text/plain": [
              "   Member_number        Date   itemDescription\n",
              "0           1808  21-07-2015    tropical fruit\n",
              "1           2552  05-01-2015        whole milk\n",
              "2           2300  19-09-2015         pip fruit\n",
              "3           1187  12-12-2015  other vegetables\n",
              "4           3037  01-02-2015        whole milk"
            ]
          },
          "metadata": {
            "tags": []
          },
          "execution_count": 8
        }
      ]
    },
    {
      "cell_type": "code",
      "metadata": {
        "id": "BZXCro9bP1gE"
      },
      "source": [
        "# Get all the transactions as a list of lists\n",
        "all_transactions = [transaction[1]['itemDescription'].tolist() \n",
        "for transaction in list(data.groupby(['Member_number', 'Date']))]"
      ],
      "execution_count": null,
      "outputs": []
    },
    {
      "cell_type": "code",
      "metadata": {
        "colab": {
          "base_uri": "https://localhost:8080/"
        },
        "id": "a-52V1iiQFo8",
        "outputId": "35e269bd-e93d-4c18-b295-bae52b552155"
      },
      "source": [
        "# Transactions in the transactional dataset\n",
        "len(all_transactions)"
      ],
      "execution_count": null,
      "outputs": [
        {
          "output_type": "execute_result",
          "data": {
            "text/plain": [
              "14963"
            ]
          },
          "metadata": {
            "tags": []
          },
          "execution_count": 10
        }
      ]
    },
    {
      "cell_type": "code",
      "metadata": {
        "colab": {
          "base_uri": "https://localhost:8080/"
        },
        "id": "P7WdlxJtmnj7",
        "outputId": "a8b9c823-7073-4c8c-cf77-2370d0625f05"
      },
      "source": [
        "# Look at the 15 first transactions\n",
        "all_transactions[0:15]"
      ],
      "execution_count": null,
      "outputs": [
        {
          "output_type": "execute_result",
          "data": {
            "text/plain": [
              "[['sausage', 'whole milk', 'semi-finished bread', 'yogurt'],\n",
              " ['whole milk', 'pastry', 'salty snack'],\n",
              " ['canned beer', 'misc. beverages'],\n",
              " ['sausage', 'hygiene articles'],\n",
              " ['soda', 'pickled vegetables'],\n",
              " ['frankfurter', 'curd'],\n",
              " ['sausage', 'whole milk', 'rolls/buns'],\n",
              " ['whole milk', 'soda'],\n",
              " ['beef', 'white bread'],\n",
              " ['frankfurter', 'soda', 'whipped/sour cream'],\n",
              " ['frozen vegetables', 'other vegetables'],\n",
              " ['butter', 'whole milk'],\n",
              " ['tropical fruit', 'sugar'],\n",
              " ['butter milk', 'specialty chocolate'],\n",
              " ['sausage', 'rolls/buns']]"
            ]
          },
          "metadata": {
            "tags": []
          },
          "execution_count": 11
        }
      ]
    },
    {
      "cell_type": "code",
      "metadata": {
        "id": "yupZNUxmwf5N"
      },
      "source": [
        "# The following instructions transform the dataset into the required format \n",
        "trans_encoder = TransactionEncoder() # Instanciate the encoder\n",
        "trans_encoder_matrix = trans_encoder.fit(all_transactions).transform(all_transactions)\n",
        "trans_encoder_matrix = pd.DataFrame(trans_encoder_matrix, columns=trans_encoder.columns_)"
      ],
      "execution_count": null,
      "outputs": []
    },
    {
      "cell_type": "code",
      "metadata": {
        "colab": {
          "base_uri": "https://localhost:8080/",
          "height": 286
        },
        "id": "w_xG2E6ndX7F",
        "outputId": "67f8f9d4-d2c6-4c1d-abbe-f289f7588052"
      },
      "source": [
        "trans_encoder_matrix.head()"
      ],
      "execution_count": null,
      "outputs": [
        {
          "output_type": "execute_result",
          "data": {
            "text/html": [
              "<div>\n",
              "<style scoped>\n",
              "    .dataframe tbody tr th:only-of-type {\n",
              "        vertical-align: middle;\n",
              "    }\n",
              "\n",
              "    .dataframe tbody tr th {\n",
              "        vertical-align: top;\n",
              "    }\n",
              "\n",
              "    .dataframe thead th {\n",
              "        text-align: right;\n",
              "    }\n",
              "</style>\n",
              "<table border=\"1\" class=\"dataframe\">\n",
              "  <thead>\n",
              "    <tr style=\"text-align: right;\">\n",
              "      <th></th>\n",
              "      <th>Instant food products</th>\n",
              "      <th>UHT-milk</th>\n",
              "      <th>abrasive cleaner</th>\n",
              "      <th>artif. sweetener</th>\n",
              "      <th>baby cosmetics</th>\n",
              "      <th>bags</th>\n",
              "      <th>baking powder</th>\n",
              "      <th>bathroom cleaner</th>\n",
              "      <th>beef</th>\n",
              "      <th>berries</th>\n",
              "      <th>beverages</th>\n",
              "      <th>bottled beer</th>\n",
              "      <th>bottled water</th>\n",
              "      <th>brandy</th>\n",
              "      <th>brown bread</th>\n",
              "      <th>butter</th>\n",
              "      <th>butter milk</th>\n",
              "      <th>cake bar</th>\n",
              "      <th>candles</th>\n",
              "      <th>candy</th>\n",
              "      <th>canned beer</th>\n",
              "      <th>canned fish</th>\n",
              "      <th>canned fruit</th>\n",
              "      <th>canned vegetables</th>\n",
              "      <th>cat food</th>\n",
              "      <th>cereals</th>\n",
              "      <th>chewing gum</th>\n",
              "      <th>chicken</th>\n",
              "      <th>chocolate</th>\n",
              "      <th>chocolate marshmallow</th>\n",
              "      <th>citrus fruit</th>\n",
              "      <th>cleaner</th>\n",
              "      <th>cling film/bags</th>\n",
              "      <th>cocoa drinks</th>\n",
              "      <th>coffee</th>\n",
              "      <th>condensed milk</th>\n",
              "      <th>cooking chocolate</th>\n",
              "      <th>cookware</th>\n",
              "      <th>cream</th>\n",
              "      <th>cream cheese</th>\n",
              "      <th>...</th>\n",
              "      <th>salt</th>\n",
              "      <th>salty snack</th>\n",
              "      <th>sauces</th>\n",
              "      <th>sausage</th>\n",
              "      <th>seasonal products</th>\n",
              "      <th>semi-finished bread</th>\n",
              "      <th>shopping bags</th>\n",
              "      <th>skin care</th>\n",
              "      <th>sliced cheese</th>\n",
              "      <th>snack products</th>\n",
              "      <th>soap</th>\n",
              "      <th>soda</th>\n",
              "      <th>soft cheese</th>\n",
              "      <th>softener</th>\n",
              "      <th>soups</th>\n",
              "      <th>sparkling wine</th>\n",
              "      <th>specialty bar</th>\n",
              "      <th>specialty cheese</th>\n",
              "      <th>specialty chocolate</th>\n",
              "      <th>specialty fat</th>\n",
              "      <th>specialty vegetables</th>\n",
              "      <th>spices</th>\n",
              "      <th>spread cheese</th>\n",
              "      <th>sugar</th>\n",
              "      <th>sweet spreads</th>\n",
              "      <th>syrup</th>\n",
              "      <th>tea</th>\n",
              "      <th>tidbits</th>\n",
              "      <th>toilet cleaner</th>\n",
              "      <th>tropical fruit</th>\n",
              "      <th>turkey</th>\n",
              "      <th>vinegar</th>\n",
              "      <th>waffles</th>\n",
              "      <th>whipped/sour cream</th>\n",
              "      <th>whisky</th>\n",
              "      <th>white bread</th>\n",
              "      <th>white wine</th>\n",
              "      <th>whole milk</th>\n",
              "      <th>yogurt</th>\n",
              "      <th>zwieback</th>\n",
              "    </tr>\n",
              "  </thead>\n",
              "  <tbody>\n",
              "    <tr>\n",
              "      <th>0</th>\n",
              "      <td>False</td>\n",
              "      <td>False</td>\n",
              "      <td>False</td>\n",
              "      <td>False</td>\n",
              "      <td>False</td>\n",
              "      <td>False</td>\n",
              "      <td>False</td>\n",
              "      <td>False</td>\n",
              "      <td>False</td>\n",
              "      <td>False</td>\n",
              "      <td>False</td>\n",
              "      <td>False</td>\n",
              "      <td>False</td>\n",
              "      <td>False</td>\n",
              "      <td>False</td>\n",
              "      <td>False</td>\n",
              "      <td>False</td>\n",
              "      <td>False</td>\n",
              "      <td>False</td>\n",
              "      <td>False</td>\n",
              "      <td>False</td>\n",
              "      <td>False</td>\n",
              "      <td>False</td>\n",
              "      <td>False</td>\n",
              "      <td>False</td>\n",
              "      <td>False</td>\n",
              "      <td>False</td>\n",
              "      <td>False</td>\n",
              "      <td>False</td>\n",
              "      <td>False</td>\n",
              "      <td>False</td>\n",
              "      <td>False</td>\n",
              "      <td>False</td>\n",
              "      <td>False</td>\n",
              "      <td>False</td>\n",
              "      <td>False</td>\n",
              "      <td>False</td>\n",
              "      <td>False</td>\n",
              "      <td>False</td>\n",
              "      <td>False</td>\n",
              "      <td>...</td>\n",
              "      <td>False</td>\n",
              "      <td>False</td>\n",
              "      <td>False</td>\n",
              "      <td>True</td>\n",
              "      <td>False</td>\n",
              "      <td>True</td>\n",
              "      <td>False</td>\n",
              "      <td>False</td>\n",
              "      <td>False</td>\n",
              "      <td>False</td>\n",
              "      <td>False</td>\n",
              "      <td>False</td>\n",
              "      <td>False</td>\n",
              "      <td>False</td>\n",
              "      <td>False</td>\n",
              "      <td>False</td>\n",
              "      <td>False</td>\n",
              "      <td>False</td>\n",
              "      <td>False</td>\n",
              "      <td>False</td>\n",
              "      <td>False</td>\n",
              "      <td>False</td>\n",
              "      <td>False</td>\n",
              "      <td>False</td>\n",
              "      <td>False</td>\n",
              "      <td>False</td>\n",
              "      <td>False</td>\n",
              "      <td>False</td>\n",
              "      <td>False</td>\n",
              "      <td>False</td>\n",
              "      <td>False</td>\n",
              "      <td>False</td>\n",
              "      <td>False</td>\n",
              "      <td>False</td>\n",
              "      <td>False</td>\n",
              "      <td>False</td>\n",
              "      <td>False</td>\n",
              "      <td>True</td>\n",
              "      <td>True</td>\n",
              "      <td>False</td>\n",
              "    </tr>\n",
              "    <tr>\n",
              "      <th>1</th>\n",
              "      <td>False</td>\n",
              "      <td>False</td>\n",
              "      <td>False</td>\n",
              "      <td>False</td>\n",
              "      <td>False</td>\n",
              "      <td>False</td>\n",
              "      <td>False</td>\n",
              "      <td>False</td>\n",
              "      <td>False</td>\n",
              "      <td>False</td>\n",
              "      <td>False</td>\n",
              "      <td>False</td>\n",
              "      <td>False</td>\n",
              "      <td>False</td>\n",
              "      <td>False</td>\n",
              "      <td>False</td>\n",
              "      <td>False</td>\n",
              "      <td>False</td>\n",
              "      <td>False</td>\n",
              "      <td>False</td>\n",
              "      <td>False</td>\n",
              "      <td>False</td>\n",
              "      <td>False</td>\n",
              "      <td>False</td>\n",
              "      <td>False</td>\n",
              "      <td>False</td>\n",
              "      <td>False</td>\n",
              "      <td>False</td>\n",
              "      <td>False</td>\n",
              "      <td>False</td>\n",
              "      <td>False</td>\n",
              "      <td>False</td>\n",
              "      <td>False</td>\n",
              "      <td>False</td>\n",
              "      <td>False</td>\n",
              "      <td>False</td>\n",
              "      <td>False</td>\n",
              "      <td>False</td>\n",
              "      <td>False</td>\n",
              "      <td>False</td>\n",
              "      <td>...</td>\n",
              "      <td>False</td>\n",
              "      <td>True</td>\n",
              "      <td>False</td>\n",
              "      <td>False</td>\n",
              "      <td>False</td>\n",
              "      <td>False</td>\n",
              "      <td>False</td>\n",
              "      <td>False</td>\n",
              "      <td>False</td>\n",
              "      <td>False</td>\n",
              "      <td>False</td>\n",
              "      <td>False</td>\n",
              "      <td>False</td>\n",
              "      <td>False</td>\n",
              "      <td>False</td>\n",
              "      <td>False</td>\n",
              "      <td>False</td>\n",
              "      <td>False</td>\n",
              "      <td>False</td>\n",
              "      <td>False</td>\n",
              "      <td>False</td>\n",
              "      <td>False</td>\n",
              "      <td>False</td>\n",
              "      <td>False</td>\n",
              "      <td>False</td>\n",
              "      <td>False</td>\n",
              "      <td>False</td>\n",
              "      <td>False</td>\n",
              "      <td>False</td>\n",
              "      <td>False</td>\n",
              "      <td>False</td>\n",
              "      <td>False</td>\n",
              "      <td>False</td>\n",
              "      <td>False</td>\n",
              "      <td>False</td>\n",
              "      <td>False</td>\n",
              "      <td>False</td>\n",
              "      <td>True</td>\n",
              "      <td>False</td>\n",
              "      <td>False</td>\n",
              "    </tr>\n",
              "    <tr>\n",
              "      <th>2</th>\n",
              "      <td>False</td>\n",
              "      <td>False</td>\n",
              "      <td>False</td>\n",
              "      <td>False</td>\n",
              "      <td>False</td>\n",
              "      <td>False</td>\n",
              "      <td>False</td>\n",
              "      <td>False</td>\n",
              "      <td>False</td>\n",
              "      <td>False</td>\n",
              "      <td>False</td>\n",
              "      <td>False</td>\n",
              "      <td>False</td>\n",
              "      <td>False</td>\n",
              "      <td>False</td>\n",
              "      <td>False</td>\n",
              "      <td>False</td>\n",
              "      <td>False</td>\n",
              "      <td>False</td>\n",
              "      <td>False</td>\n",
              "      <td>True</td>\n",
              "      <td>False</td>\n",
              "      <td>False</td>\n",
              "      <td>False</td>\n",
              "      <td>False</td>\n",
              "      <td>False</td>\n",
              "      <td>False</td>\n",
              "      <td>False</td>\n",
              "      <td>False</td>\n",
              "      <td>False</td>\n",
              "      <td>False</td>\n",
              "      <td>False</td>\n",
              "      <td>False</td>\n",
              "      <td>False</td>\n",
              "      <td>False</td>\n",
              "      <td>False</td>\n",
              "      <td>False</td>\n",
              "      <td>False</td>\n",
              "      <td>False</td>\n",
              "      <td>False</td>\n",
              "      <td>...</td>\n",
              "      <td>False</td>\n",
              "      <td>False</td>\n",
              "      <td>False</td>\n",
              "      <td>False</td>\n",
              "      <td>False</td>\n",
              "      <td>False</td>\n",
              "      <td>False</td>\n",
              "      <td>False</td>\n",
              "      <td>False</td>\n",
              "      <td>False</td>\n",
              "      <td>False</td>\n",
              "      <td>False</td>\n",
              "      <td>False</td>\n",
              "      <td>False</td>\n",
              "      <td>False</td>\n",
              "      <td>False</td>\n",
              "      <td>False</td>\n",
              "      <td>False</td>\n",
              "      <td>False</td>\n",
              "      <td>False</td>\n",
              "      <td>False</td>\n",
              "      <td>False</td>\n",
              "      <td>False</td>\n",
              "      <td>False</td>\n",
              "      <td>False</td>\n",
              "      <td>False</td>\n",
              "      <td>False</td>\n",
              "      <td>False</td>\n",
              "      <td>False</td>\n",
              "      <td>False</td>\n",
              "      <td>False</td>\n",
              "      <td>False</td>\n",
              "      <td>False</td>\n",
              "      <td>False</td>\n",
              "      <td>False</td>\n",
              "      <td>False</td>\n",
              "      <td>False</td>\n",
              "      <td>False</td>\n",
              "      <td>False</td>\n",
              "      <td>False</td>\n",
              "    </tr>\n",
              "    <tr>\n",
              "      <th>3</th>\n",
              "      <td>False</td>\n",
              "      <td>False</td>\n",
              "      <td>False</td>\n",
              "      <td>False</td>\n",
              "      <td>False</td>\n",
              "      <td>False</td>\n",
              "      <td>False</td>\n",
              "      <td>False</td>\n",
              "      <td>False</td>\n",
              "      <td>False</td>\n",
              "      <td>False</td>\n",
              "      <td>False</td>\n",
              "      <td>False</td>\n",
              "      <td>False</td>\n",
              "      <td>False</td>\n",
              "      <td>False</td>\n",
              "      <td>False</td>\n",
              "      <td>False</td>\n",
              "      <td>False</td>\n",
              "      <td>False</td>\n",
              "      <td>False</td>\n",
              "      <td>False</td>\n",
              "      <td>False</td>\n",
              "      <td>False</td>\n",
              "      <td>False</td>\n",
              "      <td>False</td>\n",
              "      <td>False</td>\n",
              "      <td>False</td>\n",
              "      <td>False</td>\n",
              "      <td>False</td>\n",
              "      <td>False</td>\n",
              "      <td>False</td>\n",
              "      <td>False</td>\n",
              "      <td>False</td>\n",
              "      <td>False</td>\n",
              "      <td>False</td>\n",
              "      <td>False</td>\n",
              "      <td>False</td>\n",
              "      <td>False</td>\n",
              "      <td>False</td>\n",
              "      <td>...</td>\n",
              "      <td>False</td>\n",
              "      <td>False</td>\n",
              "      <td>False</td>\n",
              "      <td>True</td>\n",
              "      <td>False</td>\n",
              "      <td>False</td>\n",
              "      <td>False</td>\n",
              "      <td>False</td>\n",
              "      <td>False</td>\n",
              "      <td>False</td>\n",
              "      <td>False</td>\n",
              "      <td>False</td>\n",
              "      <td>False</td>\n",
              "      <td>False</td>\n",
              "      <td>False</td>\n",
              "      <td>False</td>\n",
              "      <td>False</td>\n",
              "      <td>False</td>\n",
              "      <td>False</td>\n",
              "      <td>False</td>\n",
              "      <td>False</td>\n",
              "      <td>False</td>\n",
              "      <td>False</td>\n",
              "      <td>False</td>\n",
              "      <td>False</td>\n",
              "      <td>False</td>\n",
              "      <td>False</td>\n",
              "      <td>False</td>\n",
              "      <td>False</td>\n",
              "      <td>False</td>\n",
              "      <td>False</td>\n",
              "      <td>False</td>\n",
              "      <td>False</td>\n",
              "      <td>False</td>\n",
              "      <td>False</td>\n",
              "      <td>False</td>\n",
              "      <td>False</td>\n",
              "      <td>False</td>\n",
              "      <td>False</td>\n",
              "      <td>False</td>\n",
              "    </tr>\n",
              "    <tr>\n",
              "      <th>4</th>\n",
              "      <td>False</td>\n",
              "      <td>False</td>\n",
              "      <td>False</td>\n",
              "      <td>False</td>\n",
              "      <td>False</td>\n",
              "      <td>False</td>\n",
              "      <td>False</td>\n",
              "      <td>False</td>\n",
              "      <td>False</td>\n",
              "      <td>False</td>\n",
              "      <td>False</td>\n",
              "      <td>False</td>\n",
              "      <td>False</td>\n",
              "      <td>False</td>\n",
              "      <td>False</td>\n",
              "      <td>False</td>\n",
              "      <td>False</td>\n",
              "      <td>False</td>\n",
              "      <td>False</td>\n",
              "      <td>False</td>\n",
              "      <td>False</td>\n",
              "      <td>False</td>\n",
              "      <td>False</td>\n",
              "      <td>False</td>\n",
              "      <td>False</td>\n",
              "      <td>False</td>\n",
              "      <td>False</td>\n",
              "      <td>False</td>\n",
              "      <td>False</td>\n",
              "      <td>False</td>\n",
              "      <td>False</td>\n",
              "      <td>False</td>\n",
              "      <td>False</td>\n",
              "      <td>False</td>\n",
              "      <td>False</td>\n",
              "      <td>False</td>\n",
              "      <td>False</td>\n",
              "      <td>False</td>\n",
              "      <td>False</td>\n",
              "      <td>False</td>\n",
              "      <td>...</td>\n",
              "      <td>False</td>\n",
              "      <td>False</td>\n",
              "      <td>False</td>\n",
              "      <td>False</td>\n",
              "      <td>False</td>\n",
              "      <td>False</td>\n",
              "      <td>False</td>\n",
              "      <td>False</td>\n",
              "      <td>False</td>\n",
              "      <td>False</td>\n",
              "      <td>False</td>\n",
              "      <td>True</td>\n",
              "      <td>False</td>\n",
              "      <td>False</td>\n",
              "      <td>False</td>\n",
              "      <td>False</td>\n",
              "      <td>False</td>\n",
              "      <td>False</td>\n",
              "      <td>False</td>\n",
              "      <td>False</td>\n",
              "      <td>False</td>\n",
              "      <td>False</td>\n",
              "      <td>False</td>\n",
              "      <td>False</td>\n",
              "      <td>False</td>\n",
              "      <td>False</td>\n",
              "      <td>False</td>\n",
              "      <td>False</td>\n",
              "      <td>False</td>\n",
              "      <td>False</td>\n",
              "      <td>False</td>\n",
              "      <td>False</td>\n",
              "      <td>False</td>\n",
              "      <td>False</td>\n",
              "      <td>False</td>\n",
              "      <td>False</td>\n",
              "      <td>False</td>\n",
              "      <td>False</td>\n",
              "      <td>False</td>\n",
              "      <td>False</td>\n",
              "    </tr>\n",
              "  </tbody>\n",
              "</table>\n",
              "<p>5 rows × 167 columns</p>\n",
              "</div>"
            ],
            "text/plain": [
              "   Instant food products  UHT-milk  ...  yogurt  zwieback\n",
              "0                  False     False  ...    True     False\n",
              "1                  False     False  ...   False     False\n",
              "2                  False     False  ...   False     False\n",
              "3                  False     False  ...   False     False\n",
              "4                  False     False  ...   False     False\n",
              "\n",
              "[5 rows x 167 columns]"
            ]
          },
          "metadata": {
            "tags": []
          },
          "execution_count": 13
        }
      ]
    },
    {
      "cell_type": "markdown",
      "metadata": {
        "id": "F3MwmLYlgU6R"
      },
      "source": [
        "###Functions made "
      ]
    },
    {
      "cell_type": "code",
      "metadata": {
        "id": "-jMjbFt1gS6Z"
      },
      "source": [
        "# To compute time of algorithm running time.\n",
        "def perform_rule_calculation(transact_items_matrix, rule_type, min_support=0.001):\n",
        "    \"\"\"\n",
        "    excution time for the corresponding algorithm\n",
        "        \n",
        "    \"\"\"\n",
        "    start_time = 0\n",
        "    total_execution = 0\n",
        "\n",
        "    if(rule_type==\"fpmax\"):\n",
        "        start_time = time.time()\n",
        "        rule_items = fpmax(transact_items_matrix, \n",
        "                       min_support=min_support, \n",
        "                       use_colnames=True)\n",
        "        total_execution = time.time() - start_time\n",
        "        print(\"Computed Fp max! \")\n",
        "        print(rule_type)\n",
        "        \n",
        "    if(rule_type==\"apriori\"):\n",
        "        start_time = time.time()\n",
        "        rule_items =apriori(transact_items_matrix, \n",
        "                       min_support=min_support, \n",
        "                       use_colnames=True)\n",
        "        total_execution = time.time() - start_time\n",
        "        print(\"Computed Apriori !\")\n",
        "        print(rule_type)\n",
        "        \n",
        "    if(rule_type == \"Fpgrowth\"):\n",
        "        start_time = time.time()\n",
        "        rule_items = fpgrowth(transact_items_matrix, \n",
        "                       min_support=min_support, \n",
        "                       use_colnames=True)\n",
        "        total_execution = time.time() - start_time\n",
        "        print(\"Computed Fp Growth !\")\n",
        "        print(rule_type)\n",
        "    \n",
        "    rule_items['number_of_items'] = rule_items['itemsets'].apply(lambda x: len(x))\n",
        "    \n",
        "    return rule_items, total_execution"
      ],
      "execution_count": null,
      "outputs": []
    },
    {
      "cell_type": "code",
      "metadata": {
        "id": "W1L_ScxTgpr7"
      },
      "source": [
        "#Function for association rule\n",
        "def compute_association_rule(rule_matrix, metric=\"lift\", min_thresh=1):\n",
        "    \"\"\"\n",
        "    Compute the final association rule\n",
        " \n",
        "        rule_matrix: the corresponding algorithms matrix\n",
        "        metric: the metric to be used (default is lift)\n",
        "        min_thresh: the minimum threshold (default is 1)\n",
        "        \n",
        "    Returns\n",
        "        Rules:: Information for each transaction satisfying the given metric & threshold\n",
        "    \"\"\"\n",
        "    rules = association_rules(rule_matrix, \n",
        "                              metric=metric, \n",
        "                              min_threshold=min_thresh)\n",
        "    \n",
        "    return rules"
      ],
      "execution_count": null,
      "outputs": []
    },
    {
      "cell_type": "code",
      "metadata": {
        "id": "7MLg-uGPgw-J"
      },
      "source": [
        "# Plot Lift Vs confidence\n",
        "\n",
        "def plot_metrics_relationship(rule_matrix, col1, col2):\n",
        "    \"\"\"\n",
        "    shows the relationship between the two input columns \n",
        "   \n",
        "    \"\"\"\n",
        "    fit = np.polyfit(rule_matrix[col1], rule_matrix[col2], 1)\n",
        "    fit_funt = np.poly1d(fit)\n",
        "    plt.plot(rule_matrix[col1], rule_matrix[col2], 'yo', rule_matrix[col1], \n",
        "    fit_funt(rule_matrix[col1]))\n",
        "    plt.xlabel(col1)\n",
        "    plt.ylabel(col2)\n",
        "    plt.title('{} vs {}'.format(col1, col2))"
      ],
      "execution_count": null,
      "outputs": []
    },
    {
      "cell_type": "code",
      "metadata": {
        "id": "8TbOFEnog1BZ"
      },
      "source": [
        "#Comapring algorithms run time and plotting bar chart\n",
        "\n",
        "def compare_time_exec(algo1=list, algo2=list, algo3=list):\n",
        "    \"\"\"\n",
        "        - Algo1 list contains first algo details.\n",
        "            \n",
        "        - Algo2 list having the details of second algorithm\n",
        "        \n",
        "        - Algo3 list have the data of third algorithm\n",
        "    \"\"\"\n",
        "    \n",
        "    execution_times = [algo1[1], algo2[1], algo3[1]]\n",
        "    algo_names = (algo1[0], algo2[0] , algo3[0])\n",
        "    y=np.arange(len(algo_names))\n",
        "    \n",
        "    plt.bar(y,execution_times,color=['orange', 'blue', 'red'])\n",
        "    plt.xticks(y,algo_names)\n",
        "    plt.xlabel('Algorithms')\n",
        "    plt.ylabel('Time')\n",
        "    plt.title(\"Execution Time (seconds) Comparison\")\n",
        "    plt.show()\n",
        "    print(\"Fianls Results\")"
      ],
      "execution_count": null,
      "outputs": []
    },
    {
      "cell_type": "code",
      "metadata": {
        "id": "kKOs0r6WiMRD"
      },
      "source": [
        "val = {'name':12}\n",
        "value = list(val.items())[0]"
      ],
      "execution_count": null,
      "outputs": []
    },
    {
      "cell_type": "code",
      "metadata": {
        "colab": {
          "base_uri": "https://localhost:8080/"
        },
        "id": "4roh6IEHiO0h",
        "outputId": "9c781490-e850-4bc7-88b2-3b458d607fe8"
      },
      "source": [
        "value"
      ],
      "execution_count": null,
      "outputs": [
        {
          "output_type": "execute_result",
          "data": {
            "text/plain": [
              "('name', 12)"
            ]
          },
          "metadata": {
            "tags": []
          },
          "execution_count": 19
        }
      ]
    },
    {
      "cell_type": "markdown",
      "metadata": {
        "id": "UScrxKdChBvB"
      },
      "source": [
        "##Fp Growth Algorithm"
      ]
    },
    {
      "cell_type": "code",
      "metadata": {
        "colab": {
          "base_uri": "https://localhost:8080/"
        },
        "id": "IyjQkxROg-Gp",
        "outputId": "d9505a13-0a0c-4607-cded-f21c0fd902b4"
      },
      "source": [
        "fpgrowth_matrix, fp_growth_exec_time = perform_rule_calculation(trans_encoder_matrix, rule_type='Fpgrowth') # Run the algorithm\n",
        "print(\"Fp Growth execution took: {} seconds\".format(fp_growth_exec_time))"
      ],
      "execution_count": null,
      "outputs": [
        {
          "output_type": "stream",
          "text": [
            "Computed Fp Growth !\n",
            "Fpgrowth\n",
            "Fp Growth execution took: 0.2103438377380371 seconds\n"
          ],
          "name": "stdout"
        }
      ]
    },
    {
      "cell_type": "code",
      "metadata": {
        "colab": {
          "base_uri": "https://localhost:8080/",
          "height": 203
        },
        "id": "qcx6N3Llidrx",
        "outputId": "15b3ee4a-0a8b-43bd-de13-734a2c2a0c45"
      },
      "source": [
        "fpgrowth_matrix.head()"
      ],
      "execution_count": null,
      "outputs": [
        {
          "output_type": "execute_result",
          "data": {
            "text/html": [
              "<div>\n",
              "<style scoped>\n",
              "    .dataframe tbody tr th:only-of-type {\n",
              "        vertical-align: middle;\n",
              "    }\n",
              "\n",
              "    .dataframe tbody tr th {\n",
              "        vertical-align: top;\n",
              "    }\n",
              "\n",
              "    .dataframe thead th {\n",
              "        text-align: right;\n",
              "    }\n",
              "</style>\n",
              "<table border=\"1\" class=\"dataframe\">\n",
              "  <thead>\n",
              "    <tr style=\"text-align: right;\">\n",
              "      <th></th>\n",
              "      <th>support</th>\n",
              "      <th>itemsets</th>\n",
              "      <th>number_of_items</th>\n",
              "    </tr>\n",
              "  </thead>\n",
              "  <tbody>\n",
              "    <tr>\n",
              "      <th>0</th>\n",
              "      <td>0.157923</td>\n",
              "      <td>(whole milk)</td>\n",
              "      <td>1</td>\n",
              "    </tr>\n",
              "    <tr>\n",
              "      <th>1</th>\n",
              "      <td>0.085879</td>\n",
              "      <td>(yogurt)</td>\n",
              "      <td>1</td>\n",
              "    </tr>\n",
              "    <tr>\n",
              "      <th>2</th>\n",
              "      <td>0.060349</td>\n",
              "      <td>(sausage)</td>\n",
              "      <td>1</td>\n",
              "    </tr>\n",
              "    <tr>\n",
              "      <th>3</th>\n",
              "      <td>0.009490</td>\n",
              "      <td>(semi-finished bread)</td>\n",
              "      <td>1</td>\n",
              "    </tr>\n",
              "    <tr>\n",
              "      <th>4</th>\n",
              "      <td>0.051728</td>\n",
              "      <td>(pastry)</td>\n",
              "      <td>1</td>\n",
              "    </tr>\n",
              "  </tbody>\n",
              "</table>\n",
              "</div>"
            ],
            "text/plain": [
              "    support               itemsets  number_of_items\n",
              "0  0.157923           (whole milk)                1\n",
              "1  0.085879               (yogurt)                1\n",
              "2  0.060349              (sausage)                1\n",
              "3  0.009490  (semi-finished bread)                1\n",
              "4  0.051728               (pastry)                1"
            ]
          },
          "metadata": {
            "tags": []
          },
          "execution_count": 21
        }
      ]
    },
    {
      "cell_type": "code",
      "metadata": {
        "colab": {
          "base_uri": "https://localhost:8080/",
          "height": 203
        },
        "id": "8VFAcE-aKQgM",
        "outputId": "1f9387a9-0ddf-4ff6-fa94-9da1f7be561b"
      },
      "source": [
        "fpgrowth_matrix.tail()"
      ],
      "execution_count": null,
      "outputs": [
        {
          "output_type": "execute_result",
          "data": {
            "text/html": [
              "<div>\n",
              "<style scoped>\n",
              "    .dataframe tbody tr th:only-of-type {\n",
              "        vertical-align: middle;\n",
              "    }\n",
              "\n",
              "    .dataframe tbody tr th {\n",
              "        vertical-align: top;\n",
              "    }\n",
              "\n",
              "    .dataframe thead th {\n",
              "        text-align: right;\n",
              "    }\n",
              "</style>\n",
              "<table border=\"1\" class=\"dataframe\">\n",
              "  <thead>\n",
              "    <tr style=\"text-align: right;\">\n",
              "      <th></th>\n",
              "      <th>support</th>\n",
              "      <th>itemsets</th>\n",
              "      <th>number_of_items</th>\n",
              "    </tr>\n",
              "  </thead>\n",
              "  <tbody>\n",
              "    <tr>\n",
              "      <th>745</th>\n",
              "      <td>0.001403</td>\n",
              "      <td>(chewing gum, yogurt)</td>\n",
              "      <td>2</td>\n",
              "    </tr>\n",
              "    <tr>\n",
              "      <th>746</th>\n",
              "      <td>0.001069</td>\n",
              "      <td>(chewing gum, other vegetables)</td>\n",
              "      <td>2</td>\n",
              "    </tr>\n",
              "    <tr>\n",
              "      <th>747</th>\n",
              "      <td>0.001002</td>\n",
              "      <td>(chewing gum, soda)</td>\n",
              "      <td>2</td>\n",
              "    </tr>\n",
              "    <tr>\n",
              "      <th>748</th>\n",
              "      <td>0.001069</td>\n",
              "      <td>(pasta, whole milk)</td>\n",
              "      <td>2</td>\n",
              "    </tr>\n",
              "    <tr>\n",
              "      <th>749</th>\n",
              "      <td>0.001002</td>\n",
              "      <td>(seasonal products, rolls/buns)</td>\n",
              "      <td>2</td>\n",
              "    </tr>\n",
              "  </tbody>\n",
              "</table>\n",
              "</div>"
            ],
            "text/plain": [
              "      support                         itemsets  number_of_items\n",
              "745  0.001403            (chewing gum, yogurt)                2\n",
              "746  0.001069  (chewing gum, other vegetables)                2\n",
              "747  0.001002              (chewing gum, soda)                2\n",
              "748  0.001069              (pasta, whole milk)                2\n",
              "749  0.001002  (seasonal products, rolls/buns)                2"
            ]
          },
          "metadata": {
            "tags": []
          },
          "execution_count": 22
        }
      ]
    },
    {
      "cell_type": "markdown",
      "metadata": {
        "id": "bpKfhQavQ2s_"
      },
      "source": [
        "####lift Fpgrowth"
      ]
    },
    {
      "cell_type": "code",
      "metadata": {
        "id": "dBDSCRYbKbMb"
      },
      "source": [
        "fp_growth_rule_lift = compute_association_rule(fpgrowth_matrix)"
      ],
      "execution_count": null,
      "outputs": []
    },
    {
      "cell_type": "code",
      "metadata": {
        "colab": {
          "base_uri": "https://localhost:8080/",
          "height": 203
        },
        "id": "XPh0_AxKKd6c",
        "outputId": "4562e224-3b71-4ca3-c3de-de96b8453735"
      },
      "source": [
        "fp_growth_rule_lift.head()"
      ],
      "execution_count": null,
      "outputs": [
        {
          "output_type": "execute_result",
          "data": {
            "text/html": [
              "<div>\n",
              "<style scoped>\n",
              "    .dataframe tbody tr th:only-of-type {\n",
              "        vertical-align: middle;\n",
              "    }\n",
              "\n",
              "    .dataframe tbody tr th {\n",
              "        vertical-align: top;\n",
              "    }\n",
              "\n",
              "    .dataframe thead th {\n",
              "        text-align: right;\n",
              "    }\n",
              "</style>\n",
              "<table border=\"1\" class=\"dataframe\">\n",
              "  <thead>\n",
              "    <tr style=\"text-align: right;\">\n",
              "      <th></th>\n",
              "      <th>antecedents</th>\n",
              "      <th>consequents</th>\n",
              "      <th>antecedent support</th>\n",
              "      <th>consequent support</th>\n",
              "      <th>support</th>\n",
              "      <th>confidence</th>\n",
              "      <th>lift</th>\n",
              "      <th>leverage</th>\n",
              "      <th>conviction</th>\n",
              "    </tr>\n",
              "  </thead>\n",
              "  <tbody>\n",
              "    <tr>\n",
              "      <th>0</th>\n",
              "      <td>(whole milk, yogurt)</td>\n",
              "      <td>(rolls/buns)</td>\n",
              "      <td>0.011161</td>\n",
              "      <td>0.110005</td>\n",
              "      <td>0.001337</td>\n",
              "      <td>0.119760</td>\n",
              "      <td>1.088685</td>\n",
              "      <td>0.000109</td>\n",
              "      <td>1.011083</td>\n",
              "    </tr>\n",
              "    <tr>\n",
              "      <th>1</th>\n",
              "      <td>(rolls/buns, yogurt)</td>\n",
              "      <td>(whole milk)</td>\n",
              "      <td>0.007819</td>\n",
              "      <td>0.157923</td>\n",
              "      <td>0.001337</td>\n",
              "      <td>0.170940</td>\n",
              "      <td>1.082428</td>\n",
              "      <td>0.000102</td>\n",
              "      <td>1.015701</td>\n",
              "    </tr>\n",
              "    <tr>\n",
              "      <th>2</th>\n",
              "      <td>(whole milk, rolls/buns)</td>\n",
              "      <td>(yogurt)</td>\n",
              "      <td>0.013968</td>\n",
              "      <td>0.085879</td>\n",
              "      <td>0.001337</td>\n",
              "      <td>0.095694</td>\n",
              "      <td>1.114293</td>\n",
              "      <td>0.000137</td>\n",
              "      <td>1.010854</td>\n",
              "    </tr>\n",
              "    <tr>\n",
              "      <th>3</th>\n",
              "      <td>(yogurt)</td>\n",
              "      <td>(whole milk, rolls/buns)</td>\n",
              "      <td>0.085879</td>\n",
              "      <td>0.013968</td>\n",
              "      <td>0.001337</td>\n",
              "      <td>0.015564</td>\n",
              "      <td>1.114293</td>\n",
              "      <td>0.000137</td>\n",
              "      <td>1.001622</td>\n",
              "    </tr>\n",
              "    <tr>\n",
              "      <th>4</th>\n",
              "      <td>(whole milk)</td>\n",
              "      <td>(rolls/buns, yogurt)</td>\n",
              "      <td>0.157923</td>\n",
              "      <td>0.007819</td>\n",
              "      <td>0.001337</td>\n",
              "      <td>0.008464</td>\n",
              "      <td>1.082428</td>\n",
              "      <td>0.000102</td>\n",
              "      <td>1.000650</td>\n",
              "    </tr>\n",
              "  </tbody>\n",
              "</table>\n",
              "</div>"
            ],
            "text/plain": [
              "                antecedents               consequents  ...  leverage  conviction\n",
              "0      (whole milk, yogurt)              (rolls/buns)  ...  0.000109    1.011083\n",
              "1      (rolls/buns, yogurt)              (whole milk)  ...  0.000102    1.015701\n",
              "2  (whole milk, rolls/buns)                  (yogurt)  ...  0.000137    1.010854\n",
              "3                  (yogurt)  (whole milk, rolls/buns)  ...  0.000137    1.001622\n",
              "4              (whole milk)      (rolls/buns, yogurt)  ...  0.000102    1.000650\n",
              "\n",
              "[5 rows x 9 columns]"
            ]
          },
          "metadata": {
            "tags": []
          },
          "execution_count": 24
        }
      ]
    },
    {
      "cell_type": "markdown",
      "metadata": {
        "id": "33aVx6n7RBz_"
      },
      "source": [
        "####Confidence Fpgrowth"
      ]
    },
    {
      "cell_type": "code",
      "metadata": {
        "colab": {
          "base_uri": "https://localhost:8080/",
          "height": 49
        },
        "id": "WfXtZjdIKSiI",
        "outputId": "2598d01b-4756-4eb7-be05-e17a6ba516ae"
      },
      "source": [
        "fp_growth_rule = compute_association_rule(fpgrowth_matrix, metric=\"confidence\", min_thresh=1)\n",
        "fp_growth_rule.head()"
      ],
      "execution_count": null,
      "outputs": [
        {
          "output_type": "execute_result",
          "data": {
            "text/html": [
              "<div>\n",
              "<style scoped>\n",
              "    .dataframe tbody tr th:only-of-type {\n",
              "        vertical-align: middle;\n",
              "    }\n",
              "\n",
              "    .dataframe tbody tr th {\n",
              "        vertical-align: top;\n",
              "    }\n",
              "\n",
              "    .dataframe thead th {\n",
              "        text-align: right;\n",
              "    }\n",
              "</style>\n",
              "<table border=\"1\" class=\"dataframe\">\n",
              "  <thead>\n",
              "    <tr style=\"text-align: right;\">\n",
              "      <th></th>\n",
              "      <th>antecedents</th>\n",
              "      <th>consequents</th>\n",
              "      <th>antecedent support</th>\n",
              "      <th>consequent support</th>\n",
              "      <th>support</th>\n",
              "      <th>confidence</th>\n",
              "      <th>lift</th>\n",
              "      <th>leverage</th>\n",
              "      <th>conviction</th>\n",
              "    </tr>\n",
              "  </thead>\n",
              "  <tbody>\n",
              "  </tbody>\n",
              "</table>\n",
              "</div>"
            ],
            "text/plain": [
              "Empty DataFrame\n",
              "Columns: [antecedents, consequents, antecedent support, consequent support, support, confidence, lift, leverage, conviction]\n",
              "Index: []"
            ]
          },
          "metadata": {
            "tags": []
          },
          "execution_count": 25
        }
      ]
    },
    {
      "cell_type": "markdown",
      "metadata": {
        "id": "kdn9XTccLHgS"
      },
      "source": [
        "##Apriori Algorithm with execuation time"
      ]
    },
    {
      "cell_type": "code",
      "metadata": {
        "id": "ccu0dscDLC_J",
        "colab": {
          "base_uri": "https://localhost:8080/"
        },
        "outputId": "369445fd-467a-4ea4-8955-3470ac1d0b96"
      },
      "source": [
        "apriori_matrix, apriori_exec_time = perform_rule_calculation(trans_encoder_matrix, rule_type=\"apriori\")\n",
        "print(\"Apriori Execution took: {} seconds\".format(apriori_exec_time))"
      ],
      "execution_count": null,
      "outputs": [
        {
          "output_type": "stream",
          "text": [
            "Computed Apriori !\n",
            "apriori\n",
            "Apriori Execution took: 3.244062662124634 seconds\n"
          ],
          "name": "stdout"
        }
      ]
    },
    {
      "cell_type": "code",
      "metadata": {
        "id": "JvOjZJnDKmFW",
        "colab": {
          "base_uri": "https://localhost:8080/",
          "height": 203
        },
        "outputId": "920295b1-c1dd-4bfc-c474-fef28fbba4a3"
      },
      "source": [
        "apriori_matrix.head()"
      ],
      "execution_count": null,
      "outputs": [
        {
          "output_type": "execute_result",
          "data": {
            "text/html": [
              "<div>\n",
              "<style scoped>\n",
              "    .dataframe tbody tr th:only-of-type {\n",
              "        vertical-align: middle;\n",
              "    }\n",
              "\n",
              "    .dataframe tbody tr th {\n",
              "        vertical-align: top;\n",
              "    }\n",
              "\n",
              "    .dataframe thead th {\n",
              "        text-align: right;\n",
              "    }\n",
              "</style>\n",
              "<table border=\"1\" class=\"dataframe\">\n",
              "  <thead>\n",
              "    <tr style=\"text-align: right;\">\n",
              "      <th></th>\n",
              "      <th>support</th>\n",
              "      <th>itemsets</th>\n",
              "      <th>number_of_items</th>\n",
              "    </tr>\n",
              "  </thead>\n",
              "  <tbody>\n",
              "    <tr>\n",
              "      <th>0</th>\n",
              "      <td>0.004010</td>\n",
              "      <td>(Instant food products)</td>\n",
              "      <td>1</td>\n",
              "    </tr>\n",
              "    <tr>\n",
              "      <th>1</th>\n",
              "      <td>0.021386</td>\n",
              "      <td>(UHT-milk)</td>\n",
              "      <td>1</td>\n",
              "    </tr>\n",
              "    <tr>\n",
              "      <th>2</th>\n",
              "      <td>0.001470</td>\n",
              "      <td>(abrasive cleaner)</td>\n",
              "      <td>1</td>\n",
              "    </tr>\n",
              "    <tr>\n",
              "      <th>3</th>\n",
              "      <td>0.001938</td>\n",
              "      <td>(artif. sweetener)</td>\n",
              "      <td>1</td>\n",
              "    </tr>\n",
              "    <tr>\n",
              "      <th>4</th>\n",
              "      <td>0.008087</td>\n",
              "      <td>(baking powder)</td>\n",
              "      <td>1</td>\n",
              "    </tr>\n",
              "  </tbody>\n",
              "</table>\n",
              "</div>"
            ],
            "text/plain": [
              "    support                 itemsets  number_of_items\n",
              "0  0.004010  (Instant food products)                1\n",
              "1  0.021386               (UHT-milk)                1\n",
              "2  0.001470       (abrasive cleaner)                1\n",
              "3  0.001938       (artif. sweetener)                1\n",
              "4  0.008087          (baking powder)                1"
            ]
          },
          "metadata": {
            "tags": []
          },
          "execution_count": 27
        }
      ]
    },
    {
      "cell_type": "code",
      "metadata": {
        "id": "0VwLY2yhG4U-",
        "colab": {
          "base_uri": "https://localhost:8080/",
          "height": 203
        },
        "outputId": "98a7286c-4a84-4d4c-d510-323272b95fec"
      },
      "source": [
        "apriori_matrix.tail()"
      ],
      "execution_count": null,
      "outputs": [
        {
          "output_type": "execute_result",
          "data": {
            "text/html": [
              "<div>\n",
              "<style scoped>\n",
              "    .dataframe tbody tr th:only-of-type {\n",
              "        vertical-align: middle;\n",
              "    }\n",
              "\n",
              "    .dataframe tbody tr th {\n",
              "        vertical-align: top;\n",
              "    }\n",
              "\n",
              "    .dataframe thead th {\n",
              "        text-align: right;\n",
              "    }\n",
              "</style>\n",
              "<table border=\"1\" class=\"dataframe\">\n",
              "  <thead>\n",
              "    <tr style=\"text-align: right;\">\n",
              "      <th></th>\n",
              "      <th>support</th>\n",
              "      <th>itemsets</th>\n",
              "      <th>number_of_items</th>\n",
              "    </tr>\n",
              "  </thead>\n",
              "  <tbody>\n",
              "    <tr>\n",
              "      <th>745</th>\n",
              "      <td>0.001136</td>\n",
              "      <td>(sausage, whole milk, rolls/buns)</td>\n",
              "      <td>3</td>\n",
              "    </tr>\n",
              "    <tr>\n",
              "      <th>746</th>\n",
              "      <td>0.001002</td>\n",
              "      <td>(soda, whole milk, rolls/buns)</td>\n",
              "      <td>3</td>\n",
              "    </tr>\n",
              "    <tr>\n",
              "      <th>747</th>\n",
              "      <td>0.001337</td>\n",
              "      <td>(yogurt, whole milk, rolls/buns)</td>\n",
              "      <td>3</td>\n",
              "    </tr>\n",
              "    <tr>\n",
              "      <th>748</th>\n",
              "      <td>0.001069</td>\n",
              "      <td>(sausage, whole milk, soda)</td>\n",
              "      <td>3</td>\n",
              "    </tr>\n",
              "    <tr>\n",
              "      <th>749</th>\n",
              "      <td>0.001470</td>\n",
              "      <td>(sausage, whole milk, yogurt)</td>\n",
              "      <td>3</td>\n",
              "    </tr>\n",
              "  </tbody>\n",
              "</table>\n",
              "</div>"
            ],
            "text/plain": [
              "      support                           itemsets  number_of_items\n",
              "745  0.001136  (sausage, whole milk, rolls/buns)                3\n",
              "746  0.001002     (soda, whole milk, rolls/buns)                3\n",
              "747  0.001337   (yogurt, whole milk, rolls/buns)                3\n",
              "748  0.001069        (sausage, whole milk, soda)                3\n",
              "749  0.001470      (sausage, whole milk, yogurt)                3"
            ]
          },
          "metadata": {
            "tags": []
          },
          "execution_count": 28
        }
      ]
    },
    {
      "cell_type": "markdown",
      "metadata": {
        "id": "4PKYtBOPtuIA"
      },
      "source": [
        "###Lift"
      ]
    },
    {
      "cell_type": "code",
      "metadata": {
        "id": "wnBbiczVttUY"
      },
      "source": [
        "apriori_rule_lift = compute_association_rule(apriori_matrix)"
      ],
      "execution_count": null,
      "outputs": []
    },
    {
      "cell_type": "code",
      "metadata": {
        "colab": {
          "base_uri": "https://localhost:8080/",
          "height": 203
        },
        "id": "0JlXkEbGtzXy",
        "outputId": "c6f53908-4b3a-420f-8cec-8844619b0386"
      },
      "source": [
        "apriori_rule_lift.head()"
      ],
      "execution_count": null,
      "outputs": [
        {
          "output_type": "execute_result",
          "data": {
            "text/html": [
              "<div>\n",
              "<style scoped>\n",
              "    .dataframe tbody tr th:only-of-type {\n",
              "        vertical-align: middle;\n",
              "    }\n",
              "\n",
              "    .dataframe tbody tr th {\n",
              "        vertical-align: top;\n",
              "    }\n",
              "\n",
              "    .dataframe thead th {\n",
              "        text-align: right;\n",
              "    }\n",
              "</style>\n",
              "<table border=\"1\" class=\"dataframe\">\n",
              "  <thead>\n",
              "    <tr style=\"text-align: right;\">\n",
              "      <th></th>\n",
              "      <th>antecedents</th>\n",
              "      <th>consequents</th>\n",
              "      <th>antecedent support</th>\n",
              "      <th>consequent support</th>\n",
              "      <th>support</th>\n",
              "      <th>confidence</th>\n",
              "      <th>lift</th>\n",
              "      <th>leverage</th>\n",
              "      <th>conviction</th>\n",
              "    </tr>\n",
              "  </thead>\n",
              "  <tbody>\n",
              "    <tr>\n",
              "      <th>0</th>\n",
              "      <td>(UHT-milk)</td>\n",
              "      <td>(tropical fruit)</td>\n",
              "      <td>0.021386</td>\n",
              "      <td>0.067767</td>\n",
              "      <td>0.001537</td>\n",
              "      <td>0.071875</td>\n",
              "      <td>1.060617</td>\n",
              "      <td>8.785064e-05</td>\n",
              "      <td>1.004426</td>\n",
              "    </tr>\n",
              "    <tr>\n",
              "      <th>1</th>\n",
              "      <td>(tropical fruit)</td>\n",
              "      <td>(UHT-milk)</td>\n",
              "      <td>0.067767</td>\n",
              "      <td>0.021386</td>\n",
              "      <td>0.001537</td>\n",
              "      <td>0.022682</td>\n",
              "      <td>1.060617</td>\n",
              "      <td>8.785064e-05</td>\n",
              "      <td>1.001326</td>\n",
              "    </tr>\n",
              "    <tr>\n",
              "      <th>2</th>\n",
              "      <td>(beef)</td>\n",
              "      <td>(brown bread)</td>\n",
              "      <td>0.033950</td>\n",
              "      <td>0.037626</td>\n",
              "      <td>0.001537</td>\n",
              "      <td>0.045276</td>\n",
              "      <td>1.203301</td>\n",
              "      <td>2.597018e-04</td>\n",
              "      <td>1.008012</td>\n",
              "    </tr>\n",
              "    <tr>\n",
              "      <th>3</th>\n",
              "      <td>(brown bread)</td>\n",
              "      <td>(beef)</td>\n",
              "      <td>0.037626</td>\n",
              "      <td>0.033950</td>\n",
              "      <td>0.001537</td>\n",
              "      <td>0.040853</td>\n",
              "      <td>1.203301</td>\n",
              "      <td>2.597018e-04</td>\n",
              "      <td>1.007196</td>\n",
              "    </tr>\n",
              "    <tr>\n",
              "      <th>4</th>\n",
              "      <td>(beef)</td>\n",
              "      <td>(citrus fruit)</td>\n",
              "      <td>0.033950</td>\n",
              "      <td>0.053131</td>\n",
              "      <td>0.001804</td>\n",
              "      <td>0.053150</td>\n",
              "      <td>1.000349</td>\n",
              "      <td>6.297697e-07</td>\n",
              "      <td>1.000020</td>\n",
              "    </tr>\n",
              "  </tbody>\n",
              "</table>\n",
              "</div>"
            ],
            "text/plain": [
              "        antecedents       consequents  ...      leverage  conviction\n",
              "0        (UHT-milk)  (tropical fruit)  ...  8.785064e-05    1.004426\n",
              "1  (tropical fruit)        (UHT-milk)  ...  8.785064e-05    1.001326\n",
              "2            (beef)     (brown bread)  ...  2.597018e-04    1.008012\n",
              "3     (brown bread)            (beef)  ...  2.597018e-04    1.007196\n",
              "4            (beef)    (citrus fruit)  ...  6.297697e-07    1.000020\n",
              "\n",
              "[5 rows x 9 columns]"
            ]
          },
          "metadata": {
            "tags": []
          },
          "execution_count": 30
        }
      ]
    },
    {
      "cell_type": "code",
      "metadata": {
        "colab": {
          "base_uri": "https://localhost:8080/",
          "height": 295
        },
        "id": "lgC6_Fhwt2jh",
        "outputId": "29396dfe-bf84-4da9-9ae6-08c2599ca119"
      },
      "source": [
        "plot_metrics_relationship(apriori_rule_lift, col1='lift', col2='confidence')"
      ],
      "execution_count": null,
      "outputs": [
        {
          "output_type": "display_data",
          "data": {
            "image/png": "[encoded data removed]",
            "text/plain": [
              "<Figure size 432x288 with 1 Axes>"
            ]
          },
          "metadata": {
            "tags": [],
            "needs_background": "light"
          }
        }
      ]
    },
    {
      "cell_type": "markdown",
      "metadata": {
        "id": "QMvfwu8WLD8-"
      },
      "source": [
        "Confidence Apriori Algorithm"
      ]
    },
    {
      "cell_type": "code",
      "metadata": {
        "id": "IeXE6FsjLDT2",
        "colab": {
          "base_uri": "https://localhost:8080/",
          "height": 110
        },
        "outputId": "6a5cbd6f-73f5-40fe-9596-334f58d48931"
      },
      "source": [
        "apripri_rule = compute_association_rule(apriori_matrix, metric=\"confidence\", min_thresh=0.2)\n",
        "apripri_rule.head()"
      ],
      "execution_count": null,
      "outputs": [
        {
          "output_type": "execute_result",
          "data": {
            "text/html": [
              "<div>\n",
              "<style scoped>\n",
              "    .dataframe tbody tr th:only-of-type {\n",
              "        vertical-align: middle;\n",
              "    }\n",
              "\n",
              "    .dataframe tbody tr th {\n",
              "        vertical-align: top;\n",
              "    }\n",
              "\n",
              "    .dataframe thead th {\n",
              "        text-align: right;\n",
              "    }\n",
              "</style>\n",
              "<table border=\"1\" class=\"dataframe\">\n",
              "  <thead>\n",
              "    <tr style=\"text-align: right;\">\n",
              "      <th></th>\n",
              "      <th>antecedents</th>\n",
              "      <th>consequents</th>\n",
              "      <th>antecedent support</th>\n",
              "      <th>consequent support</th>\n",
              "      <th>support</th>\n",
              "      <th>confidence</th>\n",
              "      <th>lift</th>\n",
              "      <th>leverage</th>\n",
              "      <th>conviction</th>\n",
              "    </tr>\n",
              "  </thead>\n",
              "  <tbody>\n",
              "    <tr>\n",
              "      <th>0</th>\n",
              "      <td>(sausage, rolls/buns)</td>\n",
              "      <td>(whole milk)</td>\n",
              "      <td>0.005347</td>\n",
              "      <td>0.157923</td>\n",
              "      <td>0.001136</td>\n",
              "      <td>0.212500</td>\n",
              "      <td>1.345594</td>\n",
              "      <td>0.000292</td>\n",
              "      <td>1.069304</td>\n",
              "    </tr>\n",
              "    <tr>\n",
              "      <th>1</th>\n",
              "      <td>(sausage, yogurt)</td>\n",
              "      <td>(whole milk)</td>\n",
              "      <td>0.005748</td>\n",
              "      <td>0.157923</td>\n",
              "      <td>0.001470</td>\n",
              "      <td>0.255814</td>\n",
              "      <td>1.619866</td>\n",
              "      <td>0.000563</td>\n",
              "      <td>1.131541</td>\n",
              "    </tr>\n",
              "  </tbody>\n",
              "</table>\n",
              "</div>"
            ],
            "text/plain": [
              "             antecedents   consequents  ...  leverage  conviction\n",
              "0  (sausage, rolls/buns)  (whole milk)  ...  0.000292    1.069304\n",
              "1      (sausage, yogurt)  (whole milk)  ...  0.000563    1.131541\n",
              "\n",
              "[2 rows x 9 columns]"
            ]
          },
          "metadata": {
            "tags": []
          },
          "execution_count": 32
        }
      ]
    },
    {
      "cell_type": "markdown",
      "metadata": {
        "id": "W7qgHhg8NPGF"
      },
      "source": [
        "##Fpmax Algo"
      ]
    },
    {
      "cell_type": "code",
      "metadata": {
        "id": "fKCSdYnsQBcF",
        "colab": {
          "base_uri": "https://localhost:8080/"
        },
        "outputId": "1a7fd0d6-a748-473a-bb9b-df7d9e6d5b6b"
      },
      "source": [
        "fpmax_matrix , fpmax_exec_time = perform_rule_calculation(trans_encoder_matrix, rule_type=\"fpmax\")\n",
        "print(\"fpmax Execuation took: {} seconds\".format(fpmax_exec_time))\n"
      ],
      "execution_count": null,
      "outputs": [
        {
          "output_type": "stream",
          "text": [
            "Computed Fp max! \n",
            "fpmax\n",
            "fpmax Execuation took: 0.42864441871643066 seconds\n"
          ],
          "name": "stdout"
        }
      ]
    },
    {
      "cell_type": "code",
      "metadata": {
        "id": "DMV763HkNMa4",
        "colab": {
          "base_uri": "https://localhost:8080/",
          "height": 203
        },
        "outputId": "d5174604-8b9b-4b0f-981b-d21d59dc7cbf"
      },
      "source": [
        "fmax =  fpmax(trans_encoder_matrix, min_support=0.01, use_colnames=True)\n",
        "fmax.head()"
      ],
      "execution_count": null,
      "outputs": [
        {
          "output_type": "execute_result",
          "data": {
            "text/html": [
              "<div>\n",
              "<style scoped>\n",
              "    .dataframe tbody tr th:only-of-type {\n",
              "        vertical-align: middle;\n",
              "    }\n",
              "\n",
              "    .dataframe tbody tr th {\n",
              "        vertical-align: top;\n",
              "    }\n",
              "\n",
              "    .dataframe thead th {\n",
              "        text-align: right;\n",
              "    }\n",
              "</style>\n",
              "<table border=\"1\" class=\"dataframe\">\n",
              "  <thead>\n",
              "    <tr style=\"text-align: right;\">\n",
              "      <th></th>\n",
              "      <th>support</th>\n",
              "      <th>itemsets</th>\n",
              "    </tr>\n",
              "  </thead>\n",
              "  <tbody>\n",
              "    <tr>\n",
              "      <th>0</th>\n",
              "      <td>0.010025</td>\n",
              "      <td>(soft cheese)</td>\n",
              "    </tr>\n",
              "    <tr>\n",
              "      <th>1</th>\n",
              "      <td>0.010158</td>\n",
              "      <td>(processed cheese)</td>\n",
              "    </tr>\n",
              "    <tr>\n",
              "      <th>2</th>\n",
              "      <td>0.010493</td>\n",
              "      <td>(red/blush wine)</td>\n",
              "    </tr>\n",
              "    <tr>\n",
              "      <th>3</th>\n",
              "      <td>0.010559</td>\n",
              "      <td>(herbs)</td>\n",
              "    </tr>\n",
              "    <tr>\n",
              "      <th>4</th>\n",
              "      <td>0.011696</td>\n",
              "      <td>(white wine)</td>\n",
              "    </tr>\n",
              "  </tbody>\n",
              "</table>\n",
              "</div>"
            ],
            "text/plain": [
              "    support            itemsets\n",
              "0  0.010025       (soft cheese)\n",
              "1  0.010158  (processed cheese)\n",
              "2  0.010493    (red/blush wine)\n",
              "3  0.010559             (herbs)\n",
              "4  0.011696        (white wine)"
            ]
          },
          "metadata": {
            "tags": []
          },
          "execution_count": 39
        }
      ]
    },
    {
      "cell_type": "markdown",
      "metadata": {
        "id": "vuragQm9LvIF"
      },
      "source": [
        "Comparision of algorihms time execution "
      ]
    },
    {
      "cell_type": "code",
      "metadata": {
        "id": "ATKahtQHLuSm",
        "colab": {
          "base_uri": "https://localhost:8080/",
          "height": 312
        },
        "outputId": "fb6658dd-016b-415a-9aea-27e9e805a17d"
      },
      "source": [
        "algo1 = ['Fp Growth', fp_growth_exec_time]\n",
        "algo2 = ['Apriori', apriori_exec_time]\n",
        "algo3 = ['Fpmax', fpmax_exec_time]\n",
        "\n",
        "compare_time_exec(algo1, algo2, algo3)"
      ],
      "execution_count": null,
      "outputs": [
        {
          "output_type": "display_data",
          "data": {
            "image/png": "[encoded data removed]",
            "text/plain": [
              "<Figure size 432x288 with 1 Axes>"
            ]
          },
          "metadata": {
            "tags": [],
            "needs_background": "light"
          }
        },
        {
          "output_type": "stream",
          "text": [
            "Brain Fucks\n"
          ],
          "name": "stdout"
        }
      ]
    }
  ]
}